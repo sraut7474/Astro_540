{
 "cells": [
  {
   "cell_type": "code",
   "execution_count": 2,
   "id": "d5f349ed-ec0a-4118-ad2c-59533ffed410",
   "metadata": {},
   "outputs": [],
   "source": [
    "import numpy as np\n",
    "import matplotlib.pyplot as plt\n",
    "import scipy as sc"
   ]
  },
  {
   "cell_type": "code",
   "execution_count": 11,
   "id": "abbf4393-1bc9-47db-84a8-edb235a13a7b",
   "metadata": {},
   "outputs": [
    {
     "name": "stdout",
     "output_type": "stream",
     "text": [
      "[0. 2. 4. 6. 8.] [0 0 0 0 0]\n"
     ]
    },
    {
     "data": {
      "text/plain": [
       "3"
      ]
     },
     "execution_count": 11,
     "metadata": {},
     "output_type": "execute_result"
    }
   ],
   "source": [
    "G=6.67e-11\n",
    "G=1\n",
    "m=1\n",
    "box_l=10\n",
    "density= .5\n",
    "box_area=box_l**2\n",
    "dt=.5\n",
    "initpos=[]\n",
    "initvel=[]\n",
    "for i in range(int(box_l*density)):\n",
    "    initpos.append((1/density)*i)\n",
    "    initvel.append(0)\n",
    "initpos=np.array(initpos)\n",
    "initvel=np.array(initvel)\n",
    "print(initpos, initvel)\n",
    "abs(-3)\n"
   ]
  },
  {
   "cell_type": "code",
   "execution_count": 24,
   "id": "db7dbd7d-9676-48b8-b47b-50a7b9ec11d6",
   "metadata": {},
   "outputs": [
    {
     "ename": "NameError",
     "evalue": "name 'list_a' is not defined",
     "output_type": "error",
     "traceback": [
      "\u001b[1;31m---------------------------------------------------------------------------\u001b[0m",
      "\u001b[1;31mNameError\u001b[0m                                 Traceback (most recent call last)",
      "\u001b[1;32m~\\AppData\\Local\\Temp/ipykernel_6276/1421966035.py\u001b[0m in \u001b[0;36m<module>\u001b[1;34m\u001b[0m\n\u001b[0;32m     17\u001b[0m     \u001b[0mlist_a\u001b[0m\u001b[1;33m=\u001b[0m\u001b[0mlist_f\u001b[0m\u001b[1;33m/\u001b[0m\u001b[0mm\u001b[0m\u001b[1;33m\u001b[0m\u001b[1;33m\u001b[0m\u001b[0m\n\u001b[0;32m     18\u001b[0m \u001b[1;33m\u001b[0m\u001b[0m\n\u001b[1;32m---> 19\u001b[1;33m \u001b[0mprint\u001b[0m\u001b[1;33m(\u001b[0m\u001b[0mlist_f\u001b[0m\u001b[1;33m,\u001b[0m \u001b[0mlist_a\u001b[0m\u001b[1;33m)\u001b[0m\u001b[1;33m\u001b[0m\u001b[1;33m\u001b[0m\u001b[0m\n\u001b[0m",
      "\u001b[1;31mNameError\u001b[0m: name 'list_a' is not defined"
     ]
    }
   ],
   "source": [
    "list_f=np.array([])\n",
    "\n",
    "\n",
    "def calc_force(initpos):\n",
    "    for i in initpos:\n",
    "        sum_f=0\n",
    "        for j in initpos:\n",
    "            if i!=j:\n",
    "                r=i-j\n",
    "                f=-G*(m**2)*r/(abs(r**3))\n",
    "                print(f)\n",
    "                sum_f=sum_f+f\n",
    "                sum_a=sum_f/m\n",
    "        print(\"sum of force: {}\".format(sum_f))\n",
    "        print(\"sum of accel: {}\".format(sum_a))\n",
    "        list_f=np.append(list_f,sum_f)\n",
    "    list_a=list_f/m\n",
    "\n",
    "print(list_f, list_a)"
   ]
  },
  {
   "cell_type": "code",
   "execution_count": 35,
   "id": "142e90d1-4701-4139-8302-ff181f4112e3",
   "metadata": {
    "tags": []
   },
   "outputs": [
    {
     "name": "stdout",
     "output_type": "stream",
     "text": [
      "[-0.25       -0.0625     -0.02777778 -0.015625  ]\n",
      "-0.3559027777777778\n",
      "[ 0.25       -0.25       -0.0625     -0.02777778]\n",
      "-0.09027777777777778\n",
      "[ 0.0625  0.25   -0.25   -0.0625]\n",
      "0.0\n",
      "[ 0.02777778  0.0625      0.25       -0.25      ]\n",
      "0.09027777777777779\n",
      "[0.015625   0.02777778 0.0625     0.25      ]\n",
      "0.3559027777777778\n",
      "[-0.35590278 -0.09027778  0.          0.09027778  0.35590278]\n"
     ]
    }
   ],
   "source": [
    "list_f=np.zeros(int(box_l*density))\n",
    "for i in range(len(initpos)):\n",
    "    r=initpos-initpos[i]\n",
    "    r=r[r!=0]\n",
    "    #print(r)\n",
    "    f=-G*(m**2)*r/(abs(r**3))\n",
    "    print(f)\n",
    "    print(np.sum(f))\n",
    "    list_f[i]=np.sum(f)\n",
    "print(list_f)"
   ]
  },
  {
   "cell_type": "code",
   "execution_count": 13,
   "id": "8618a72a-f4e2-49f5-a769-c1be0fc3b99b",
   "metadata": {},
   "outputs": [
    {
     "ename": "IndentationError",
     "evalue": "unexpected indent (Temp/ipykernel_6276/574963901.py, line 2)",
     "output_type": "error",
     "traceback": [
      "\u001b[1;36m  File \u001b[1;32m\"C:\\Users\\sraut\\AppData\\Local\\Temp/ipykernel_6276/574963901.py\"\u001b[1;36m, line \u001b[1;32m2\u001b[0m\n\u001b[1;33m    sum_f=sum_f+f\u001b[0m\n\u001b[1;37m    ^\u001b[0m\n\u001b[1;31mIndentationError\u001b[0m\u001b[1;31m:\u001b[0m unexpected indent\n"
     ]
    }
   ],
   "source": [
    "    f=-G*(m**2)*r/(abs(r**3))\n",
    "            sum_f=sum_f+f\n",
    "            sum_a=sum_f/m\n",
    "    print(\"sum of force: {}\".format(sum_f))\n",
    "    print(\"sum of accel: {}\".format(sum_a))\n",
    "    list_f=np.append(list_f,sum_f)\n",
    "list_a=list_f/m\n",
    "\n",
    "print(list_f, list_a)        "
   ]
  },
  {
   "cell_type": "code",
   "execution_count": 54,
   "id": "a0ce30fe-625f-4b09-833f-93d7bd821b7d",
   "metadata": {},
   "outputs": [],
   "source": [
    "def vel_next(a,vi,dt):\n",
    "    vf=vi+a*dt\n",
    "    return vf\n",
    "\n",
    "def pos_next(a,vi,xi,dt):\n",
    "    xf=xi+(vi*dt)+(.5*a*dt**2)\n",
    "    return xf\n",
    "nextpos=[]\n",
    "nextvel=[]\n",
    "for i in range(len(initpos)):\n",
    "    nextvel.append(vel_next(list_a[i],initvel[i],dt))\n",
    "    nextpos.append(pos_next(list_a[i],initvel[i],initpos[i],dt))"
   ]
  },
  {
   "cell_type": "code",
   "execution_count": 55,
   "id": "0c18ed5c-1843-4c8b-871b-1d0c08510b91",
   "metadata": {},
   "outputs": [
    {
     "name": "stdout",
     "output_type": "stream",
     "text": [
      "[0.0, 2.0, 4.0, 6.0, 8.0]\n",
      "[0.1779513888888889, 2.045138888888889, 4.0, 5.954861111111111, 7.822048611111111]\n"
     ]
    }
   ],
   "source": [
    "print(initpos)\n",
    "print(nextpos)"
   ]
  },
  {
   "cell_type": "code",
   "execution_count": 56,
   "id": "e34fb506-d409-4946-8026-aecbb420bc0b",
   "metadata": {},
   "outputs": [
    {
     "data": {
      "image/png": "[encoded data removed]",
      "text/plain": [
       "<Figure size 432x288 with 1 Axes>"
      ]
     },
     "metadata": {
      "needs_background": "light"
     },
     "output_type": "display_data"
    }
   ],
   "source": [
    "plt.scatter(initpos,np.zeros_like(initpos))\n",
    "plt.scatter(nextpos, np.zeros_like(nextpos))\n",
    "plt.show()"
   ]
  },
  {
   "cell_type": "code",
   "execution_count": 69,
   "id": "6a1d7180-287a-45a3-b865-8168af78efdc",
   "metadata": {},
   "outputs": [
    {
     "data": {
      "image/png": "[encoded data removed]",
      "text/plain": [
       "<Figure size 432x288 with 1 Axes>"
      ]
     },
     "metadata": {
      "needs_background": "light"
     },
     "output_type": "display_data"
    },
    {
     "data": {
      "image/png": "[encoded data removed]",
      "text/plain": [
       "<Figure size 432x288 with 1 Axes>"
      ]
     },
     "metadata": {
      "needs_background": "light"
     },
     "output_type": "display_data"
    },
    {
     "data": {
      "image/png": "[encoded data removed]",
      "text/plain": [
       "<Figure size 432x288 with 1 Axes>"
      ]
     },
     "metadata": {
      "needs_background": "light"
     },
     "output_type": "display_data"
    },
    {
     "data": {
      "image/png": "[encoded data removed]",
      "text/plain": [
       "<Figure size 432x288 with 1 Axes>"
      ]
     },
     "metadata": {
      "needs_background": "light"
     },
     "output_type": "display_data"
    },
    {
     "data": {
      "image/png": "[encoded data removed]",
      "text/plain": [
       "<Figure size 432x288 with 1 Axes>"
      ]
     },
     "metadata": {
      "needs_background": "light"
     },
     "output_type": "display_data"
    },
    {
     "data": {
      "image/png": "[encoded data removed]",
      "text/plain": [
       "<Figure size 432x288 with 1 Axes>"
      ]
     },
     "metadata": {
      "needs_background": "light"
     },
     "output_type": "display_data"
    },
    {
     "data": {
      "image/png": "[encoded data removed]",
      "text/plain": [
       "<Figure size 432x288 with 1 Axes>"
      ]
     },
     "metadata": {
      "needs_background": "light"
     },
     "output_type": "display_data"
    },
    {
     "data": {
      "image/png": "[encoded data removed]",
      "text/plain": [
       "<Figure size 432x288 with 1 Axes>"
      ]
     },
     "metadata": {
      "needs_background": "light"
     },
     "output_type": "display_data"
    },
    {
     "data": {
      "image/png": "[encoded data removed]",
      "text/plain": [
       "<Figure size 432x288 with 1 Axes>"
      ]
     },
     "metadata": {
      "needs_background": "light"
     },
     "output_type": "display_data"
    },
    {
     "data": {
      "image/png": "[encoded data removed]",
      "text/plain": [
       "<Figure size 432x288 with 1 Axes>"
      ]
     },
     "metadata": {
      "needs_background": "light"
     },
     "output_type": "display_data"
    }
   ],
   "source": [
    "import numpy as np\n",
    "nextvel=[]\n",
    "nextpos=[]\n",
    "f = np.arange(10)\n",
    "m = np.arange(10)\n",
    "f=-G*(m**2)*r/(abs(r**3))\n",
    "\n",
    "\n",
    "\n",
    "for t in range(10):\n",
    "    for i in initpos:\n",
    "        sum_f=0\n",
    "        for j in initpos:\n",
    "            if i!=j:\n",
    "                r=i-j\n",
    "                f=(int())-G*(m**2)*r/(abs(r**3))\n",
    "                #print(f)\n",
    "                sum_f=sum_f+f\n",
    "                sum_a=sum_f/m\n",
    "    #print(\"sum of force: {}\".format(sum_f))\n",
    "    #print(\"sum of accel: {}\".format(sum_a))\n",
    "    list_f=np.append(list_f,sum_f)\n",
    "    list_a=list_f/m\n",
    "    for k in range(len(initpos)):\n",
    "        nextvel.append(vel_next(list_a[k],initvel[k],dt))\n",
    "        nextpos.append(pos_next(list_a[k],initvel[k],initpos[k],dt))\n",
    "    #plt.scatter(initpos,np.zeros_like(initpos))\n",
    "    plt.scatter(nextpos, np.zeros_like(nextpos))\n",
    "    plt.show()\n",
    "    initpos=nextpos\n",
    "    initvel=nextvel\n",
    "    nextvel=[]\n",
    "    nextpos=[]\n",
    "    "
   ]
  },
  {
   "cell_type": "code",
   "execution_count": 18,
   "id": "fc9d20d1-5462-4ea3-bee1-6ceff8986d5b",
   "metadata": {},
   "outputs": [
    {
     "name": "stdout",
     "output_type": "stream",
     "text": [
      "[3]\n"
     ]
    }
   ],
   "source": [
    "list_ex=np.array([1,2,3,4,5])\n",
    "print(list_ex[list_ex==3])\n"
   ]
  },
  {
   "cell_type": "code",
   "execution_count": 28,
   "id": "4b60269f-2196-487c-9a87-a21fbf43296a",
   "metadata": {},
   "outputs": [
    {
     "name": "stdout",
     "output_type": "stream",
     "text": [
      "[]\n"
     ]
    },
    {
     "ename": "AttributeError",
     "evalue": "'numpy.ndarray' object has no attribute 'append'",
     "output_type": "error",
     "traceback": [
      "\u001b[1;31m---------------------------------------------------------------------------\u001b[0m",
      "\u001b[1;31mAttributeError\u001b[0m                            Traceback (most recent call last)",
      "\u001b[1;32m~\\AppData\\Local\\Temp/ipykernel_6276/3091932382.py\u001b[0m in \u001b[0;36m<module>\u001b[1;34m\u001b[0m\n\u001b[0;32m      2\u001b[0m \u001b[0mprint\u001b[0m\u001b[1;33m(\u001b[0m\u001b[0mlist_f\u001b[0m\u001b[1;33m)\u001b[0m\u001b[1;33m\u001b[0m\u001b[1;33m\u001b[0m\u001b[0m\n\u001b[0;32m      3\u001b[0m \u001b[0mlist_f\u001b[0m\u001b[1;33m=\u001b[0m\u001b[0mnp\u001b[0m\u001b[1;33m.\u001b[0m\u001b[0mappend\u001b[0m\u001b[1;33m(\u001b[0m\u001b[0mlist_f\u001b[0m\u001b[1;33m,\u001b[0m \u001b[1;36m1\u001b[0m\u001b[1;33m)\u001b[0m\u001b[1;33m\u001b[0m\u001b[1;33m\u001b[0m\u001b[0m\n\u001b[1;32m----> 4\u001b[1;33m \u001b[0mlist_f\u001b[0m\u001b[1;33m.\u001b[0m\u001b[0mappend\u001b[0m\u001b[1;33m(\u001b[0m\u001b[1;36m2\u001b[0m\u001b[1;33m)\u001b[0m\u001b[1;33m\u001b[0m\u001b[1;33m\u001b[0m\u001b[0m\n\u001b[0m\u001b[0;32m      5\u001b[0m \u001b[0mprint\u001b[0m\u001b[1;33m(\u001b[0m\u001b[0mlist_f\u001b[0m\u001b[1;33m)\u001b[0m\u001b[1;33m\u001b[0m\u001b[1;33m\u001b[0m\u001b[0m\n",
      "\u001b[1;31mAttributeError\u001b[0m: 'numpy.ndarray' object has no attribute 'append'"
     ]
    }
   ],
   "source": [
    "list_f=np.array([])\n",
    "print(list_f)\n",
    "list_f=np.append(list_f, 1)\n",
    "print(list_f)"
   ]
  },
  {
   "cell_type": "code",
   "execution_count": 30,
   "id": "c1452b57-b1d4-40a0-9319-ada156855f7c",
   "metadata": {},
   "outputs": [
    {
     "data": {
      "text/plain": [
       "[0, 1, 2, 3, 4]"
      ]
     },
     "execution_count": 30,
     "metadata": {},
     "output_type": "execute_result"
    }
   ],
   "source": [
    "list(range(5))"
   ]
  },
  {
   "cell_type": "code",
   "execution_count": null,
   "id": "82adf2af-7dc1-404d-a354-31e441a1aebd",
   "metadata": {},
   "outputs": [],
   "source": []
  },
  {
   "cell_type": "code",
   "execution_count": null,
   "id": "140e0f0d-68c3-4e6b-91af-12be5cab3fab",
   "metadata": {},
   "outputs": [],
   "source": []
  }
 ],
 "metadata": {
  "kernelspec": {
   "display_name": "Python 3 (ipykernel)",
   "language": "python",
   "name": "python3"
  },
  "language_info": {
   "codemirror_mode": {
    "name": "ipython",
    "version": 3
   },
   "file_extension": ".py",
   "mimetype": "text/x-python",
   "name": "python",
   "nbconvert_exporter": "python",
   "pygments_lexer": "ipython3",
   "version": "3.9.7"
  }
 },
 "nbformat": 4,
 "nbformat_minor": 5
}
