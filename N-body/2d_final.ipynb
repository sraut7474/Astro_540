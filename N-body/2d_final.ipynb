{
 "cells": [
  {
   "cell_type": "code",
   "execution_count": 1,
   "id": "482b2b49-74cb-4f24-a258-a228e26650bb",
   "metadata": {},
   "outputs": [],
   "source": [
    "import numpy as np\n",
    "import matplotlib.pyplot as plt\n",
    "import scipy as sc\n",
    "import imageio"
   ]
  },
  {
   "cell_type": "code",
   "execution_count": 14,
   "id": "0de5fefc-2fd6-4c72-a154-4f1bfce37228",
   "metadata": {
    "collapsed": true,
    "jupyter": {
     "outputs_hidden": true
    },
    "tags": []
   },
   "outputs": [
    {
     "ename": "SyntaxError",
     "evalue": "invalid syntax (Temp/ipykernel_15052/2304867090.py, line 6)",
     "output_type": "error",
     "traceback": [
      "\u001b[1;36m  File \u001b[1;32m\"C:\\Users\\sraut\\AppData\\Local\\Temp/ipykernel_15052/2304867090.py\"\u001b[1;36m, line \u001b[1;32m6\u001b[0m\n\u001b[1;33m    def\u001b[0m\n\u001b[1;37m       ^\u001b[0m\n\u001b[1;31mSyntaxError\u001b[0m\u001b[1;31m:\u001b[0m invalid syntax\n"
     ]
    }
   ],
   "source": [
    "class particle:\n",
    "    def __init__(self,pos, vel, m):\n",
    "        self.pos=pos\n",
    "        self.vel=vel\n",
    "        self.m=m\n",
    "    def\n",
    "\n",
    "        \n",
    "        "
   ]
  },
  {
   "cell_type": "code",
   "execution_count": 30,
   "id": "48d0cf9d-b727-4663-8873-ac8be5009ce9",
   "metadata": {},
   "outputs": [
    {
     "name": "stdout",
     "output_type": "stream",
     "text": [
      "[5.84842877 5.51936131 3.70000713 4.15296408 5.57047295 3.82315593\n",
      " 3.37335712 5.04328158 4.16680723 5.80509997 6.60793033 5.75417725\n",
      " 4.22110956 7.19336878 4.66641349 4.5689299  5.35763972 5.35696392\n",
      " 5.3145533  5.05874274 3.38519629 4.00363446 4.76131382 5.18722935\n",
      " 4.71103941] 25\n"
     ]
    }
   ],
   "source": []
  },
  {
   "cell_type": "code",
   "execution_count": 58,
   "id": "d8429ec6-3a1e-45ea-963b-e431a78e19ee",
   "metadata": {},
   "outputs": [],
   "source": [
    "########################################\n",
    "#### Initializing pos and vel lists for simple box simulation\n",
    "##input: box length, lin density\n",
    "##output: initpos_x, initpos_y, initvel_x, initvel_y\n",
    "########################################\n",
    "def initialize_pos_vel_box(box_l, lin_density):\n",
    "    pos_x=np.arange(0,box_l,1/lin_density)\n",
    "    pos_y=np.arange(0,box_l,1/lin_density)\n",
    "    initpos_x, initpos_y= np.meshgrid(pos_x,pos_y)\n",
    "    initpos_x=initpos_x.flatten()\n",
    "    initpos_y=initpos_y.flatten()\n",
    "    print(initpos_x,initpos_y, len(initpos_x))\n",
    "    area_density=lin_density**2\n",
    "    initvel_x=np.zeros(int((box_l**2)*area_density))\n",
    "    initvel_y=np.zeros(int((box_l**2)*area_density))\n",
    "    #print(initvel_x,initvel_y, len(initvel_x))\n",
    "    print(\"length of vel and pos: {}, {}\".format(len(initpos_x),len(initvel_x)))\n",
    "    return initpos_x, initpos_y, initvel_x, initvel_y\n",
    "##  ##  ##  ##  ##  ##  ##  ##  ##  ##  ##  ##  ##  ##  ##  ##  ##  ##  ##  ##  ##  ##  ##  ##  ##  \n",
    "\n",
    "########################################\n",
    "#### Initializing pos and vel lists for a simple \"galaxy\" with fixed # of particles in each spherical bin\n",
    "##input: list of radii of fixed spherical bins, number of particles in each spherical ring\n",
    "##output: initpos_x, initpos_y, initvel_x, initvel_y\n",
    "########################################\n",
    "def initialize_pos_vel_fixed_ntheta(r, n_theta, sig=1):\n",
    "    #making set of thetas and radii to combine\n",
    "    thetas=np.linspace(0,2*np.pi,n_theta,endpoint=False)\n",
    "    r,thetas=np.meshgrid(r,thetas)\n",
    "    #combining the radii and thetas\n",
    "    rx=(r*np.cos(thetas)).flatten()\n",
    "    ry=(r*np.sin(thetas)).flatten()\n",
    "    #adding randomness to the positions\n",
    "    rx=rx+((np.random.randn(1,len(rx))).flatten())/sig\n",
    "    ry=ry+((np.random.randn(1,len(ry))).flatten())/sig\n",
    "    #calculating the number of particles \"within\" each particle that contributes to its ideal circular velocity\n",
    "    r=np.sqrt(rx**2+ry**2)\n",
    "    n_within=[np.count_nonzero(r<i) for i in r]\n",
    "    #calculatingmagnitude of circular velocity \n",
    "    v=np.sqrt(G*n*m/r)\n",
    "    #assigning velocities\n",
    "    vx=-(v*np.sin(thetas.flatten()))\n",
    "    vy=(v*np.cos(thetas.flatten()))\n",
    "    plt.scatter(rx,ry)\n",
    "    return rx, ry, vx, vy\n",
    "##  ##  ##  ##  ##  ##  ##  ##  ##  ##  ##  ##  ##  ##  ##  ##  ##  ##  ##  ##  ##  ##  ##  ##  ##  \n",
    "\n",
    "########################################\n",
    "#### Initializing pos and vel lists for a simple \"galaxy with fixed linear density,rho_s, in each spherical bin\n",
    "##input: list of radii of fixed spherical bins, fixed constant linear density of particles in each spherical ring\n",
    "##output: initpos_x, initpos_y, initvel_x, initvel_y\n",
    "########################################\n",
    "def initialize_pos_vel_fixed_rho_s(r, rho_s, sig=1):\n",
    "    thetas=np.array([])\n",
    "    rlist=np.array([])\n",
    "    vlist=np.array([])\n",
    "    for i in range(len(r)):\n",
    "        #calculating appropriate number of particles in this ring to maintain rho_s\n",
    "        n=2*np.pi*r[i]*rho_s\n",
    "        #getting theta coords for particles in this ring\n",
    "        theta=np.linspace(0,2*np.pi,int(n),endpoint=False)\n",
    "        #adding them to the total list of thetas\n",
    "        thetas=np.concatenate((thetas,theta))\n",
    "        #adding to the toal list of radii\n",
    "        rlist=np.concatenate((rlist,r[i]*np.ones(int(n))))\n",
    "        #going through and giving each partivle a total velcity magnitude\n",
    "        if i==0:\n",
    "            vlist=np.concatenate((vlist,np.zeros(int(n))))\n",
    "        else:\n",
    "            vlist=np.concatenate((vlist,r[i-1]*np.ones(int(n))))\n",
    "    #calculating rx,ry\n",
    "    rx=(rlist*np.cos(thetas))\n",
    "    ry=(rlist*np.sin(thetas))\n",
    "    rx=rx+((np.random.randn(1,len(rx))).flatten())/sig\n",
    "    ry=ry+((np.random.randn(1,len(ry))).flatten())/sig\n",
    "    r=np.sqrt(rx**2+ry**2)\n",
    "    #calculating the number of particles \"within\" each particle that contributes to its ideal circular velocity\n",
    "    n_within=[np.count_nonzero(r<i) for i in r]\n",
    "    #calculatingmagnitude of circular velocity \n",
    "    v=np.sqrt(G*n*m/r)\n",
    "    #assigning velocities\n",
    "    vx=-(v*np.sin(thetas))\n",
    "    vy=(v*np.cos(thetas))\n",
    "    plt.scatter(rx,ry)\n",
    "    return rx, ry,vx,vy\n",
    "##  ##  ##  ##  ##  ##  ##  ##  ##  ##  ##  ##  ##  ##  ##  ##  ##  ##  ##  ##  ##  ##  ##  ##  ##  \n",
    "\n",
    "\n",
    "########################################\n",
    "## Calculates net forces on each particles and returns list of net forces for particles (list_f)\n",
    "########################################\n",
    "def calc_netforce(initpos_x, initpos_y, fl):\n",
    "    list_fx=np.zeros(len(initpos_x)) \n",
    "    list_fy=np.zeros(len(initpos_x))\n",
    "    list_f=np.zeros(len(initpos_x))\n",
    "    for i in range(len(initpos_x)):\n",
    "        r_x=initpos_x-initpos_x[i]\n",
    "        r_y=initpos_y-initpos_y[i]\n",
    "        r=np.sqrt(r_x**2+r_y**2)\n",
    "        #print(r)\n",
    "        r_x=r_x[r>fl]\n",
    "        r_y=r_y[r>fl]\n",
    "        r=r[r>fl] #gets rid of all values that are r_i=0 in the list of r, so we dont have to worry by dividing zero when caluclating the force. \n",
    "        #print(len(r), r)\n",
    "        f_x=G*(m**2)*r_x/(r**(3))\n",
    "        f_y=G*(m**2)*r_y/(r**(3))\n",
    "        f=G*(m**2)*r/(abs(r**3))\n",
    "        #print(\"f_c: {},  f: {}\".format(np.sqrt(f_x**2+f_y**2),np.abs(f)))\n",
    "        #print(\"check\", np.around(np.abs(f),3)==np.around(np.sqrt(f_x**2+f_y**2),3))\n",
    "        list_fx[i]=np.sum(f_x)\n",
    "        list_fy[i]=np.sum(f_y)\n",
    "        list_f[i]=np.sum(f)\n",
    "    return(list_fx,list_fy)\n",
    "##  ##  ##  ##  ##  ##  ##  ##  ##  ##  ##  ##  ##  ##  ##  ##  ##  ##  ##  ##  ##  ##  ##  ##  ##  \n",
    "\n",
    "########################################\n",
    "## Basic Kinematic Functions to be used in function calc_new_pos_vel(...)\n",
    "########################################\n",
    "def vel_next(a,vi,dt):\n",
    "    vf=vi+a*dt\n",
    "    return vf\n",
    "\n",
    "def pos_next(a,vi,xi,dt):\n",
    "    xf=xi+(vi*dt)+(.5*a*dt**2)\n",
    "    return xf\n",
    "##  ##  ##  ##  ##  ##  ##  ##  ##  ##  ##  ##  ##  ##  ##  ##  ##  ##  ##  ##  ##  ##  ##  ##  ##  \n",
    "\n",
    "########################################\n",
    "## usinf list_fx and list_fy, calculate the new position and velocity of each particle assumming constant acceleration\n",
    "########################################\n",
    "def calc_new_pos_vel(initpos_x, initpos_y, initvel_x, initvel_y, list_fx, list_fy):\n",
    "    newvel_x=vel_next(list_fx/m,initvel_x,dt)\n",
    "    newvel_y=vel_next(list_fy/m,initvel_y,dt)\n",
    "    newpos_x=pos_next(list_fx/m,initvel_x,initpos_x,dt)\n",
    "    newpos_y=pos_next(list_fy/m,initvel_y,initpos_y,dt)\n",
    "    return newpos_x, newpos_y, newvel_x, newvel_y\n",
    "##  ##  ##  ##  ##  ##  ##  ##  ##  ##  ##  ##  ##  ##  ##  ##  ##  ##  ##  ##  ##  ##  ##  ##  ##  "
   ]
  },
  {
   "cell_type": "code",
   "execution_count": 72,
   "id": "46a51102-9793-4a7e-8a8c-5de1d1a0afb2",
   "metadata": {
    "tags": []
   },
   "outputs": [
    {
     "name": "stdout",
     "output_type": "stream",
     "text": [
      "[0. 2. 4. 6. 8. 0. 2. 4. 6. 8. 0. 2. 4. 6. 8. 0. 2. 4. 6. 8. 0. 2. 4. 6.\n",
      " 8.] [0. 0. 0. 0. 0. 2. 2. 2. 2. 2. 4. 4. 4. 4. 4. 6. 6. 6. 6. 6. 8. 8. 8. 8.\n",
      " 8.] 25\n",
      "length of vel and pos: 25, 25\n"
     ]
    },
    {
     "data": {
      "image/png": "[encoded data removed]",
      "text/plain": [
       "<Figure size 432x288 with 1 Axes>"
      ]
     },
     "metadata": {
      "needs_background": "light"
     },
     "output_type": "display_data"
    },
    {
     "data": {
      "text/plain": [
       "<Figure size 432x288 with 0 Axes>"
      ]
     },
     "metadata": {},
     "output_type": "display_data"
    }
   ],
   "source": [
    "########################################\n",
    "## Initiialiszing constants and Lists that will be used\n",
    "########################################\n",
    "fl=0.3\n",
    "G=6.67e-11\n",
    "G=1                \n",
    "m=1               #mass of particle in kg\n",
    "box_l=10          #length of sim box side\n",
    "lin_density= .5   #linear density (used to calculate area density later)\n",
    "box_area=box_l**2 #area of initial box\n",
    "dt=.5  #timestep\n",
    "timesteps=1000\n",
    "########################################\n",
    "## Initiialiszing positions and velcities of particles at t=0\n",
    "########################################   \n",
    "initpos_x, initpos_y, initvel_x, initvel_y=initialize_pos_vel_box(box_l, lin_density)\n",
    "plt.scatter(initpos_x, initpos_y)\n",
    "plt.show()\n",
    "for t in range(timesteps):\n",
    "    list_fx,list_fy=calc_netforce(initpos_x, initpos_y, fl)\n",
    "    #plt.scatter(initpos_x, initpos_y)\n",
    "    newpos_x, newpos_y, newvel_x, newvel_y=calc_new_pos_vel(initpos_x, initpos_y, initvel_x, initvel_y, list_fx, list_fy)\n",
    "    plt.scatter(newpos_x, newpos_y)\n",
    "    plt.savefig('{}_box.png'.format(t))\n",
    "    #plt.show()\n",
    "    plt.clf()\n",
    "    initpos_x=newpos_x\n",
    "    initpos_y=newpos_y\n",
    "    initvel_x=newvel_x\n",
    "    initvel_y=newvel_y\n",
    "#plt.xlim(-20,20)\n",
    "#plt.ylim(-20,20)\n",
    "filenames=['{}_box.png'.format(t) for t in range(timesteps)]\n",
    "with imageio.get_writer('gifs/mygif_box.gif', mode='I') as writer:\n",
    "    for filename in filenames:\n",
    "        image = imageio.imread(filename)\n",
    "        writer.append_data(image)\n",
    "plt.show()"
   ]
  },
  {
   "cell_type": "code",
   "execution_count": 78,
   "id": "82aa4954-7b39-4687-9967-263b16f67247",
   "metadata": {
    "tags": []
   },
   "outputs": [
    {
     "data": {
      "image/png": "[encoded data removed]",
      "text/plain": [
       "<Figure size 432x288 with 1 Axes>"
      ]
     },
     "metadata": {
      "needs_background": "light"
     },
     "output_type": "display_data"
    },
    {
     "data": {
      "text/plain": [
       "<Figure size 432x288 with 0 Axes>"
      ]
     },
     "metadata": {},
     "output_type": "display_data"
    }
   ],
   "source": [
    "########################################\n",
    "## Initiialiszing constants and Lists that will be used\n",
    "########################################\n",
    "\n",
    "G=6.67e-11\n",
    "G=1                \n",
    "m=1               #mass of particle in kg\n",
    "box_l=10          #length of sim box side\n",
    "lin_density= .5   #linear density (used to calculate area density later)\n",
    "box_area=box_l**2 #area of initial box\n",
    "dt=.5  #timestep\n",
    "timesteps=1000\n",
    "########################################\n",
    "## Initiialiszing positions and velcities of particles at t=0\n",
    "########################################   \n",
    "initpos_x, initpos_y, initvel_x, initvel_y=initialize_pos_vel_fixed_ntheta(np.linspace(1,50,50), 20)\n",
    "plt.show()\n",
    "for t in range(timesteps):\n",
    "    list_fx,list_fy=calc_netforce(initpos_x, initpos_y,fl)\n",
    "    #plt.scatter(rx, ry)\n",
    "    newpos_x, newpos_y, newvel_x, newvel_y=calc_new_pos_vel(initpos_x, initpos_y, initvel_x, initvel_y, list_fx, list_fy)\n",
    "    plt.xlim([-40,60])\n",
    "    plt.ylim([-40,60])\n",
    "    plt.scatter(newpos_x, newpos_y)\n",
    "    plt.savefig('{}_fixed_ntheta.png'.format(t))\n",
    "    #plt.show()\n",
    "    plt.clf()\n",
    "    initpos_x=newpos_x\n",
    "    initpos_y=newpos_y\n",
    "    initvel_x=newvel_x\n",
    "    initvel_y=newvel_y\n",
    "#plt.xlim(-20,20)\n",
    "#plt.ylim(-20,20)\n",
    "plt.show()\n",
    "filenames=['{}_fixed_ntheta.png'.format(t) for t in range(timesteps)]\n",
    "with imageio.get_writer('gifs/mygif_fixed_ntheta.gif', mode='I') as writer:\n",
    "    for filename in filenames:\n",
    "        image = imageio.imread(filename)\n",
    "        writer.append_data(image)"
   ]
  },
  {
   "cell_type": "code",
   "execution_count": 74,
   "id": "b9abb0a1-72df-478a-b516-a00e6cd0e80d",
   "metadata": {
    "tags": []
   },
   "outputs": [
    {
     "data": {
      "image/png": "[encoded data removed]",
      "text/plain": [
       "<Figure size 432x288 with 1 Axes>"
      ]
     },
     "metadata": {
      "needs_background": "light"
     },
     "output_type": "display_data"
    },
    {
     "data": {
      "text/plain": [
       "<Figure size 432x288 with 0 Axes>"
      ]
     },
     "metadata": {},
     "output_type": "display_data"
    }
   ],
   "source": [
    "########################################\n",
    "## Initiialiszing constants and Lists that will be used\n",
    "########################################\n",
    "\n",
    "G=6.67e-11\n",
    "G=1                \n",
    "m=1               #mass of particle in kg\n",
    "box_l=10          #length of sim box side\n",
    "lin_density= .5   #linear density (used to calculate area density later)\n",
    "box_area=box_l**2 #area of initial box\n",
    "dt=.5  #timestep\n",
    "timesteps=1000\n",
    "########################################\n",
    "## Initiialiszing positions and velcities of particles at t=0\n",
    "########################################   \n",
    "initpos_x, initpos_y, initvel_x, initvel_y=initialize_pos_vel_fixed_rho_s(np.linspace(1,10,5), 5/2/np.pi)\n",
    "plt.show()\n",
    "for t in range(timesteps):\n",
    "    list_fx,list_fy=calc_netforce(initpos_x, initpos_y,fl)\n",
    "    #plt.scatter(rx, ry)\n",
    "    newpos_x, newpos_y, newvel_x, newvel_y=calc_new_pos_vel(initpos_x, initpos_y, initvel_x, initvel_y, list_fx, list_fy)\n",
    "    plt.xlim([-40,60])\n",
    "    plt.ylim([-40,60])\n",
    "    plt.scatter(newpos_x, newpos_y)\n",
    "    plt.savefig('{}_fixed_rhos.png'.format(t))\n",
    "    #plt.show()\n",
    "    plt.clf()\n",
    "    initpos_x=newpos_x\n",
    "    initpos_y=newpos_y\n",
    "    initvel_x=newvel_x\n",
    "    initvel_y=newvel_y\n",
    "#plt.xlim(-20,20)\n",
    "#plt.ylim(-20,20)\n",
    "plt.show()\n",
    "filenames=['{}_fixed_rhos.png'.format(t) for t in range(timesteps)]\n",
    "with imageio.get_writer('gifs/mygif_fixed_rhos.gif', mode='I') as writer:\n",
    "    for filename in filenames:\n",
    "        image = imageio.imread(filename)\n",
    "        writer.append_data(image)"
   ]
  },
  {
   "cell_type": "code",
   "execution_count": null,
   "id": "5cf5373d-f408-48e7-84d3-2743aa4f1786",
   "metadata": {},
   "outputs": [],
   "source": []
  }
 ],
 "metadata": {
  "kernelspec": {
   "display_name": "Python 3 (ipykernel)",
   "language": "python",
   "name": "python3"
  },
  "language_info": {
   "codemirror_mode": {
    "name": "ipython",
    "version": 3
   },
   "file_extension": ".py",
   "mimetype": "text/x-python",
   "name": "python",
   "nbconvert_exporter": "python",
   "pygments_lexer": "ipython3",
   "version": "3.9.7"
  }
 },
 "nbformat": 4,
 "nbformat_minor": 5
}
